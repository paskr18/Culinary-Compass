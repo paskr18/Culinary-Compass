{
  "nbformat": 4,
  "nbformat_minor": 0,
  "metadata": {
    "colab": {
      "provenance": []
    },
    "kernelspec": {
      "name": "python3",
      "display_name": "Python 3"
    },
    "language_info": {
      "name": "python"
    }
  },
  "cells": [
    {
      "cell_type": "markdown",
      "source": [
        "Installation of the needed packages and import of the libraries."
      ],
      "metadata": {
        "id": "E4zEE7ftajDI"
      }
    },
    {
      "cell_type": "code",
      "source": [
        "!pip install pyngrok\n",
        "!pip install streamlit\n",
        "\n",
        "import streamlit as st\n",
        "from pyngrok import ngrok\n",
        "import os\n",
        "import subprocess\n",
        "import time"
      ],
      "metadata": {
        "colab": {
          "base_uri": "https://localhost:8080/"
        },
        "id": "mfeBvRj-b0B5",
        "outputId": "27f26908-f076-484e-cfb1-c01b48121de2"
      },
      "execution_count": null,
      "outputs": [
        {
          "output_type": "stream",
          "name": "stdout",
          "text": [
            "Collecting pyngrok\n",
            "  Downloading pyngrok-7.2.3-py3-none-any.whl.metadata (8.7 kB)\n",
            "Requirement already satisfied: PyYAML>=5.1 in /usr/local/lib/python3.11/dist-packages (from pyngrok) (6.0.2)\n",
            "Downloading pyngrok-7.2.3-py3-none-any.whl (23 kB)\n",
            "Installing collected packages: pyngrok\n",
            "Successfully installed pyngrok-7.2.3\n",
            "Collecting streamlit\n",
            "  Downloading streamlit-1.44.0-py3-none-any.whl.metadata (8.9 kB)\n",
            "Requirement already satisfied: altair<6,>=4.0 in /usr/local/lib/python3.11/dist-packages (from streamlit) (5.5.0)\n",
            "Requirement already satisfied: blinker<2,>=1.0.0 in /usr/local/lib/python3.11/dist-packages (from streamlit) (1.9.0)\n",
            "Requirement already satisfied: cachetools<6,>=4.0 in /usr/local/lib/python3.11/dist-packages (from streamlit) (5.5.2)\n",
            "Requirement already satisfied: click<9,>=7.0 in /usr/local/lib/python3.11/dist-packages (from streamlit) (8.1.8)\n",
            "Requirement already satisfied: numpy<3,>=1.23 in /usr/local/lib/python3.11/dist-packages (from streamlit) (2.0.2)\n",
            "Requirement already satisfied: packaging<25,>=20 in /usr/local/lib/python3.11/dist-packages (from streamlit) (24.2)\n",
            "Requirement already satisfied: pandas<3,>=1.4.0 in /usr/local/lib/python3.11/dist-packages (from streamlit) (2.2.2)\n",
            "Requirement already satisfied: pillow<12,>=7.1.0 in /usr/local/lib/python3.11/dist-packages (from streamlit) (11.1.0)\n",
            "Requirement already satisfied: protobuf<6,>=3.20 in /usr/local/lib/python3.11/dist-packages (from streamlit) (5.29.4)\n",
            "Requirement already satisfied: pyarrow>=7.0 in /usr/local/lib/python3.11/dist-packages (from streamlit) (18.1.0)\n",
            "Requirement already satisfied: requests<3,>=2.27 in /usr/local/lib/python3.11/dist-packages (from streamlit) (2.32.3)\n",
            "Requirement already satisfied: tenacity<10,>=8.1.0 in /usr/local/lib/python3.11/dist-packages (from streamlit) (9.0.0)\n",
            "Requirement already satisfied: toml<2,>=0.10.1 in /usr/local/lib/python3.11/dist-packages (from streamlit) (0.10.2)\n",
            "Requirement already satisfied: typing-extensions<5,>=4.4.0 in /usr/local/lib/python3.11/dist-packages (from streamlit) (4.12.2)\n",
            "Collecting watchdog<7,>=2.1.5 (from streamlit)\n",
            "  Downloading watchdog-6.0.0-py3-none-manylinux2014_x86_64.whl.metadata (44 kB)\n",
            "\u001b[2K     \u001b[90m━━━━━━━━━━━━━━━━━━━━━━━━━━━━━━━━━━━━━━━━\u001b[0m \u001b[32m44.3/44.3 kB\u001b[0m \u001b[31m2.2 MB/s\u001b[0m eta \u001b[36m0:00:00\u001b[0m\n",
            "\u001b[?25hRequirement already satisfied: gitpython!=3.1.19,<4,>=3.0.7 in /usr/local/lib/python3.11/dist-packages (from streamlit) (3.1.44)\n",
            "Collecting pydeck<1,>=0.8.0b4 (from streamlit)\n",
            "  Downloading pydeck-0.9.1-py2.py3-none-any.whl.metadata (4.1 kB)\n",
            "Requirement already satisfied: tornado<7,>=6.0.3 in /usr/local/lib/python3.11/dist-packages (from streamlit) (6.4.2)\n",
            "Requirement already satisfied: jinja2 in /usr/local/lib/python3.11/dist-packages (from altair<6,>=4.0->streamlit) (3.1.6)\n",
            "Requirement already satisfied: jsonschema>=3.0 in /usr/local/lib/python3.11/dist-packages (from altair<6,>=4.0->streamlit) (4.23.0)\n",
            "Requirement already satisfied: narwhals>=1.14.2 in /usr/local/lib/python3.11/dist-packages (from altair<6,>=4.0->streamlit) (1.31.0)\n",
            "Requirement already satisfied: gitdb<5,>=4.0.1 in /usr/local/lib/python3.11/dist-packages (from gitpython!=3.1.19,<4,>=3.0.7->streamlit) (4.0.12)\n",
            "Requirement already satisfied: python-dateutil>=2.8.2 in /usr/local/lib/python3.11/dist-packages (from pandas<3,>=1.4.0->streamlit) (2.8.2)\n",
            "Requirement already satisfied: pytz>=2020.1 in /usr/local/lib/python3.11/dist-packages (from pandas<3,>=1.4.0->streamlit) (2025.1)\n",
            "Requirement already satisfied: tzdata>=2022.7 in /usr/local/lib/python3.11/dist-packages (from pandas<3,>=1.4.0->streamlit) (2025.1)\n",
            "Requirement already satisfied: charset-normalizer<4,>=2 in /usr/local/lib/python3.11/dist-packages (from requests<3,>=2.27->streamlit) (3.4.1)\n",
            "Requirement already satisfied: idna<4,>=2.5 in /usr/local/lib/python3.11/dist-packages (from requests<3,>=2.27->streamlit) (3.10)\n",
            "Requirement already satisfied: urllib3<3,>=1.21.1 in /usr/local/lib/python3.11/dist-packages (from requests<3,>=2.27->streamlit) (2.3.0)\n",
            "Requirement already satisfied: certifi>=2017.4.17 in /usr/local/lib/python3.11/dist-packages (from requests<3,>=2.27->streamlit) (2025.1.31)\n",
            "Requirement already satisfied: smmap<6,>=3.0.1 in /usr/local/lib/python3.11/dist-packages (from gitdb<5,>=4.0.1->gitpython!=3.1.19,<4,>=3.0.7->streamlit) (5.0.2)\n",
            "Requirement already satisfied: MarkupSafe>=2.0 in /usr/local/lib/python3.11/dist-packages (from jinja2->altair<6,>=4.0->streamlit) (3.0.2)\n",
            "Requirement already satisfied: attrs>=22.2.0 in /usr/local/lib/python3.11/dist-packages (from jsonschema>=3.0->altair<6,>=4.0->streamlit) (25.3.0)\n",
            "Requirement already satisfied: jsonschema-specifications>=2023.03.6 in /usr/local/lib/python3.11/dist-packages (from jsonschema>=3.0->altair<6,>=4.0->streamlit) (2024.10.1)\n",
            "Requirement already satisfied: referencing>=0.28.4 in /usr/local/lib/python3.11/dist-packages (from jsonschema>=3.0->altair<6,>=4.0->streamlit) (0.36.2)\n",
            "Requirement already satisfied: rpds-py>=0.7.1 in /usr/local/lib/python3.11/dist-packages (from jsonschema>=3.0->altair<6,>=4.0->streamlit) (0.23.1)\n",
            "Requirement already satisfied: six>=1.5 in /usr/local/lib/python3.11/dist-packages (from python-dateutil>=2.8.2->pandas<3,>=1.4.0->streamlit) (1.17.0)\n",
            "Downloading streamlit-1.44.0-py3-none-any.whl (9.8 MB)\n",
            "\u001b[2K   \u001b[90m━━━━━━━━━━━━━━━━━━━━━━━━━━━━━━━━━━━━━━━━\u001b[0m \u001b[32m9.8/9.8 MB\u001b[0m \u001b[31m72.2 MB/s\u001b[0m eta \u001b[36m0:00:00\u001b[0m\n",
            "\u001b[?25hDownloading pydeck-0.9.1-py2.py3-none-any.whl (6.9 MB)\n",
            "\u001b[2K   \u001b[90m━━━━━━━━━━━━━━━━━━━━━━━━━━━━━━━━━━━━━━━━\u001b[0m \u001b[32m6.9/6.9 MB\u001b[0m \u001b[31m88.1 MB/s\u001b[0m eta \u001b[36m0:00:00\u001b[0m\n",
            "\u001b[?25hDownloading watchdog-6.0.0-py3-none-manylinux2014_x86_64.whl (79 kB)\n",
            "\u001b[2K   \u001b[90m━━━━━━━━━━━━━━━━━━━━━━━━━━━━━━━━━━━━━━━━\u001b[0m \u001b[32m79.1/79.1 kB\u001b[0m \u001b[31m5.8 MB/s\u001b[0m eta \u001b[36m0:00:00\u001b[0m\n",
            "\u001b[?25hInstalling collected packages: watchdog, pydeck, streamlit\n",
            "Successfully installed pydeck-0.9.1 streamlit-1.44.0 watchdog-6.0.0\n"
          ]
        }
      ]
    },
    {
      "cell_type": "markdown",
      "source": [
        "Connecting through the ngrok tunnel"
      ],
      "metadata": {
        "id": "Gi-DtvEIbzbT"
      }
    },
    {
      "cell_type": "code",
      "execution_count": null,
      "metadata": {
        "colab": {
          "base_uri": "https://localhost:8080/"
        },
        "id": "wzn4jK7baOrS",
        "outputId": "93b0923d-8e3b-498f-eef3-607587e5503e"
      },
      "outputs": [
        {
          "output_type": "stream",
          "name": "stdout",
          "text": [
            "Authtoken saved to configuration file: /root/.config/ngrok/ngrok.yml\n"
          ]
        }
      ],
      "source": [
        "ngrok_key = open(\"ngrok.txt\",\"r\").read()\n",
        "\n",
        "!ngrok config add-authtoken $ngrok_key\n",
        "\n",
        "def run_streamlit():\n",
        "  proc = subprocess.Popen([\"streamlit\", \"run\", \"Culinary_Compass_Tool.py\", \"--server.port=8501\"])\n",
        "  time.sleep(5)\n",
        "  return proc\n",
        "\n",
        "def start_ngrok():\n",
        "  ngrok.kill()\n",
        "  url = ngrok.connect(8501, \"http\")\n",
        "  print(\"Streamlit URL:\", url)\n",
        "  return url"
      ]
    },
    {
      "cell_type": "markdown",
      "source": [
        "Setting up the Streamlit app."
      ],
      "metadata": {
        "id": "GlKM3oJ5eI8Y"
      }
    },
    {
      "cell_type": "code",
      "source": [
        "open(\"Culinary_Compass_Tool.py\",\"w\").write(\"\"\"\n",
        "import streamlit as st\n",
        "import pandas as pd\n",
        "import numpy as np\n",
        "import os\n",
        "import sys\n",
        "import logging\n",
        "from sklearn.preprocessing import StandardScaler\n",
        "from sklearn.preprocessing import MinMaxScaler\n",
        "from sklearn.feature_extraction.text import TfidfVectorizer\n",
        "from sklearn.metrics.pairwise import cosine_similarity\n",
        "from sklearn.metrics.pairwise import euclidean_distances\n",
        "from sklearn.cluster import KMeans\n",
        "from sklearn.manifold import TSNE\n",
        "\n",
        "st.image('dishes.png')\n",
        "st.title(':blue[Culinary Compass Dishes Recommendation]')\n",
        "st.header(':blue[Select the cuisine and flavor of preference]', divider = True)\n",
        "\n",
        "st.header(\"First dataset\")\n",
        "menu_item_data = pd.read_excel('Weighted_Menu_Items.xlsx')\n",
        "menu_item_data['menu_item'] = menu_item_data['menu_item'].fillna('')\n",
        "cuisine_list = menu_item_data['cuisine'].sort_values().unique()\n",
        "cuisine_dropdown = st.selectbox('Select your favorite cuisine', cuisine_list, index = 0)\n",
        "flavor_list = menu_item_data['dominant_flavor'].sort_values().unique()\n",
        "flavor_dropdown = st.selectbox('Select your favorite flavor', flavor_list, index = 0)\n",
        "choice = st.button('Show me recommendations')\n",
        "container = st.container()\n",
        "st.divider()\n",
        "\n",
        "st.header(\"Second dataset\")\n",
        "menu_items = pd.read_excel('Menu Items_Synthetic Dataset.xlsx')\n",
        "menu_items['menu_item'] = menu_items['menu_item'].fillna('')\n",
        "cuisines_list = menu_items['cuisine'].sort_values().unique()\n",
        "cuisines_dropdown = st.selectbox('Select your favorite cuisine', cuisines_list, index = 0)\n",
        "flavors_list = menu_items['dominant_flavor'].sort_values().unique()\n",
        "flavors_dropdown = st.selectbox('Select your favorite flavor', flavors_list, index = 0, key = 'Flavors')\n",
        "choice1 = st.button('Show me recommendations', key = 'Cuisines/Flavors')\n",
        "containers = st.container()\n",
        "st.divider()\n",
        "\n",
        "st.header(\"Third dataset\")\n",
        "celine_menu_items = pd.read_excel('Celine_weighted_menu_items.xlsx')\n",
        "celine_menu_items['menu_item'] = celine_menu_items['menu_item'].fillna('')\n",
        "celine_list = celine_menu_items['cuisine'].sort_values().unique()\n",
        "celine_dropdown = st.selectbox('Select your favorite cuisine', celine_list, index = 0)\n",
        "celine_flavor_list = celine_menu_items['dominant_flavor'].sort_values().unique()\n",
        "celine_flavor_dropdown = st.selectbox('Select your favorite flavor', celine_flavor_list, index = 0, key = \"Celine / flavor\")\n",
        "choice2 = st.button('Show me recommendations', key = 'Celine')\n",
        "celine_container = st.container()\n",
        "st.divider()\n",
        "\n",
        "def load_menu_data(file_path: str) -> pd.DataFrame:\n",
        "  if not os.path.exists(file_path):\n",
        "      logging.error(f\"File not found: {file_path}\")\n",
        "      raise FileNotFoundError(f\"The file {file_path} does not exist.\")\n",
        "  logging.info(f\"Loading file: {file_path}\")\n",
        "  return pd.read_excel(file_path)\n",
        "\n",
        "def process_data(df: pd.DataFrame) -> np.hstack:\n",
        "  df['flavour_weight'] = df['flavour_weight'].apply(eval)\n",
        "  flavor_df = pd.json_normalize(df['flavour_weight'])\n",
        "  scaler = StandardScaler()\n",
        "  scaled_flavors = scaler.fit_transform(flavor_df)\n",
        "  tfidf = TfidfVectorizer(stop_words='english')\n",
        "  ingredient_tfidf = tfidf.fit_transform(df['ingredients'])\n",
        "  combined_features = np.hstack([scaled_flavors, ingredient_tfidf.toarray()])\n",
        "  return combined_features\n",
        "\n",
        "\n",
        "def recommend_cosine_sim(menu, cuisine, taste_profile, combined_features, top_n=5):\n",
        "  taste_profile = taste_profile.strip().lower()\n",
        "  taste_profile_dic = {taste_profile: 1.0}\n",
        "  valid_flavors = {\"sweet\", \"salty\", \"sour\", \"bitter\", \"umami\"}\n",
        "  flavor_profile = {flavor: 0.0 for flavor in valid_flavors}\n",
        "  for key in taste_profile_dic:\n",
        "        if key in flavor_profile:\n",
        "            flavor_profile[key] = taste_profile_dic[key]\n",
        "        else:\n",
        "            raise ValueError(f\"Invalid flavor: {key}. Must be one of {list(valid_flavors)}\")\n",
        "  filtered_df = menu[menu['cuisine'].str.strip().str.lower() == cuisine.strip().lower()].copy()\n",
        "  filtered_df = filtered_df[filtered_df['dominant_flavor'].str.strip().str.lower() == taste_profile].copy()\n",
        "  if filtered_df.empty:\n",
        "    return f\"No menu items found for cuisine: {cuisine}\"\n",
        "  flavor_profiles = np.array([\n",
        "        list(flavor.values()) if isinstance(flavor, dict) else [0] * len(flavor_profile)\n",
        "        for flavor in filtered_df['flavour_weight']])\n",
        "  input_profile = np.array(list(flavor_profile.values())).reshape(1, -1)\n",
        "  cosine_sim = cosine_similarity(input_profile, flavor_profiles).flatten()\n",
        "  cosine_dist = 1 - cosine_sim\n",
        "  sim_scores = np.argsort(cosine_dist)[:top_n]\n",
        "  recommendations = filtered_df.iloc[sim_scores][['menu_item_id', 'menu_item', 'cuisine', 'ingredients', 'dominant_flavor']]\n",
        "  recommendations['score'] = cosine_dist[sim_scores]\n",
        "  return recommendations\n",
        "\n",
        "def get_restaurant_name(name):\n",
        "  name = name[:-3]\n",
        "  name = name.replace(\"_\", \" \")\n",
        "  name = name.title()\n",
        "  return name\n",
        "\n",
        "def main(path, cuisine_input, flavor_input, container):\n",
        "  try:\n",
        "        menu = load_menu_data(path) #Loads excel into df\n",
        "\n",
        "        cuisine = cuisine_input\n",
        "        taste_profile = flavor_input\n",
        "        combined_features = process_data(menu)\n",
        "        n = 5\n",
        "        visualize = False\n",
        "        if (type(recommend_cosine_sim(menu, cuisine, taste_profile, combined_features, n)) == str):\n",
        "          container.write(\"No menu items found for your choice of cuisine (\" + cuisine_input + \") and flavor (\" + flavor_input + \").\")\n",
        "        else:\n",
        "          container.write(\"Based on your choice of cuisine (\" + cuisine_input + \") and flavor (\" + flavor_input + \"), we recommend the following menu items:\")\n",
        "          res_cos = pd.DataFrame(recommend_cosine_sim(menu, cuisine, taste_profile, combined_features, n))\n",
        "          num_rows = res_cos.shape[0]\n",
        "          for i in range(num_rows):\n",
        "            container.write(\"Choice \" + str(i+1) + \": \" + res_cos['menu_item'].iloc[i] + \" at \" + get_restaurant_name(res_cos['menu_item_id'].iloc[i]))\n",
        "          container.subheader(\"The full dataframe\")\n",
        "          container.table(res_cos[['cuisine','menu_item','ingredients','dominant_flavor','score']])\n",
        "\n",
        "  except Exception as e:\n",
        "      logging.error(f\"An error occurred: {e}\")\n",
        "      st.write(logging.error(f\"An error occurred: {e}\"))\n",
        "      raise\n",
        "\n",
        "#code to keep the data in session\n",
        "if \"choice_pressed\" not in st.session_state:\n",
        "  st.session_state.choice_pressed = False\n",
        "if \"choice1_pressed\" not in st.session_state:\n",
        "  st.session_state.choice1_pressed = False\n",
        "if \"choice2_pressed\" not in st.session_state:\n",
        "  st.session_state.choice2_pressed = False\n",
        "\n",
        "\n",
        "if(choice):\n",
        "  main('Weighted_Menu_Items.xlsx', cuisine_dropdown, flavor_dropdown, container)\n",
        "  st.session_state.choice_pressed = True\n",
        "\n",
        "if(choice1):\n",
        "  main('Menu Items_Synthetic Dataset.xlsx', cuisines_dropdown, flavors_dropdown, containers)\n",
        "  st.session_state.choice1_pressed = True\n",
        "\n",
        "\n",
        "if(choice2):\n",
        "  main('Celine_weighted_menu_items.xlsx', celine_dropdown, celine_flavor_dropdown, celine_container)\n",
        "  st.session_state.choice2_pressed = True\n",
        "\"\"\")"
      ],
      "metadata": {
        "colab": {
          "base_uri": "https://localhost:8080/"
        },
        "id": "qAL8A0v4eSSg",
        "outputId": "fc806e97-ad69-4f16-b730-00023c746322"
      },
      "execution_count": null,
      "outputs": [
        {
          "output_type": "execute_result",
          "data": {
            "text/plain": [
              "7781"
            ]
          },
          "metadata": {},
          "execution_count": 3
        }
      ]
    },
    {
      "cell_type": "markdown",
      "source": [
        "Launching the Streamlit App."
      ],
      "metadata": {
        "id": "pomF5lAleslf"
      }
    },
    {
      "cell_type": "code",
      "source": [
        "streamlit_proc = run_streamlit()\n",
        "public_url = start_ngrok()"
      ],
      "metadata": {
        "colab": {
          "base_uri": "https://localhost:8080/"
        },
        "id": "gcrQJzr6ewqs",
        "outputId": "0fede790-67e2-4222-deae-fee9e74acc50"
      },
      "execution_count": null,
      "outputs": [
        {
          "output_type": "stream",
          "name": "stdout",
          "text": [
            "Streamlit URL: NgrokTunnel: \"https://b44c-34-169-105-99.ngrok-free.app\" -> \"http://localhost:8501\"\n"
          ]
        }
      ]
    }
  ]
}